{
 "cells": [
  {
   "cell_type": "markdown",
   "metadata": {},
   "source": [
    "To complete the homework simply fill in your answers in this jupyter notebook!\n",
    "\n",
    "Remember that there are many ways in which markup cells can be used and you can add useful things such as references and images to better explain your answers.\n",
    "\n",
    "It is perfectly fine if you copy your answer from somewhere else in the internet as long as you understand the code you copied and cite the source. However, refrain from asking help for your colleagues (unless you're really struggling) as the ability to find information online is crucial for any tech role you might want to have in the future.\n",
    "\n",
    "<h1> Question 1: Multiple prints</h1>\n",
    "Create 3 different variables of different types and print their values using a single print statement."
   ]
  },
  {
   "cell_type": "code",
   "execution_count": 12,
   "metadata": {},
   "outputs": [
    {
     "name": "stdout",
     "output_type": "stream",
     "text": [
      "String: Hello, Andre. Welcome to my homework! Integer: 50 Float: 99.88\n"
     ]
    }
   ],
   "source": [
    "# 3 different variables of different types\n",
    "greet_teacher = \"Hello, Andre. Welcome to my homework!\"\n",
    "int_numb = 50\n",
    "float_numb = 99.88\n",
    "\n",
    "# Print their values using a single print statement\n",
    "print(\"String:\", greet_teacher,\"Integer:\", int_numb, \"Float:\", float_numb)\n"
   ]
  },
  {
   "cell_type": "markdown",
   "metadata": {},
   "source": [
    "<h1> Question 2: Data structures</h1>\n",
    "Create two variables containing each a nested list and a nested dictionary and demonstrate how to access specific items of it."
   ]
  },
  {
   "cell_type": "code",
   "execution_count": 14,
   "metadata": {},
   "outputs": [
    {
     "name": "stdout",
     "output_type": "stream",
     "text": [
      "Item at (1, 2): 6\n",
      "Mommy's age: 27 and Daddy's name is: Mark\n"
     ]
    }
   ],
   "source": [
    "# This is a nested list\n",
    "nested_list = [[1, 2, 3], [4, 5, 6], [7, 8, 9]]\n",
    "\n",
    "# Accessing the item in the second row and third column\n",
    "item = nested_list[1][2]\n",
    "print(\"Item at (1, 2):\", item) \n",
    "\n",
    "# And this is a nested dictionary and represents our family:\n",
    "nested_dict = {\n",
    "    'daddy': {'name': 'Mark', 'age': 29},\n",
    "    'mommy': {'name': 'Marika', 'age': 27},\n",
    "    'daughter': {'name': 'Debora', 'age': 2}\n",
    "}\n",
    "\n",
    "# Accessing the age of Mommy and the name of daddy:\n",
    "age = nested_dict['mommy']['age']\n",
    "name = nested_dict['daddy']['name']\n",
    "print(\"Mommy's age:\", age, \"and Daddy's name is:\", name)\n"
   ]
  },
  {
   "cell_type": "markdown",
   "metadata": {},
   "source": [
    "Now consider the following list,"
   ]
  },
  {
   "cell_type": "code",
   "execution_count": 20,
   "metadata": {},
   "outputs": [
    {
     "name": "stdout",
     "output_type": "stream",
     "text": [
      "Numbers smaller than 5: [1, 2, 3, 4]\n",
      "Even numbers: [2, 4, 6, 8]\n",
      "Multiples of 3: [3, 6, 9]\n",
      "This is item: 1\n",
      "This is item: 2\n",
      "This is item: 3\n",
      "This is item: 4\n",
      "This is item: 5\n",
      "This is item: 6\n",
      "This is item: 7\n",
      "This is item: 8\n",
      "This is item: 9\n"
     ]
    }
   ],
   "source": [
    "a_list = [1,2,3,4,5,6,7,8,9]\n",
    "\n",
    "# 1. Slice the list to contain only numbers smaller than 5\n",
    "smaller_than_5 = [x for x in a_list if x < 5]\n",
    "\n",
    "# 2. Create a new list containing only EVEN numbers\n",
    "even_numbers = [x for x in a_list if x % 2 == 0]\n",
    "\n",
    "# 3. Create a new list containing numbers that are multiples of 3\n",
    "multiples_of_3 = [x for x in a_list if x % 3 == 0]\n",
    "\n",
    "# Printing the results\n",
    "print(\"Numbers smaller than 5:\", smaller_than_5)\n",
    "print(\"Even numbers:\", even_numbers)\n",
    "print(\"Multiples of 3:\", multiples_of_3)\n",
    "\n",
    "# Bonus. Loop to print every item on the list inside a sentence using an f-string\n",
    "for item in a_list:\n",
    "    print(f\"This is item: {item}\")\n"
   ]
  },
  {
   "cell_type": "markdown",
   "metadata": {},
   "source": [
    "1 - slice this list (by index) to contain only the numbers smaller than 5; <br>\n",
    "2 - make a loop to create a new list containing only the EVEN numbers of this list (bonus point if you use a list comprehension!!);<br>\n",
    "3 - make a loop to create a new list containing only the numbers that are multiples of 3;<br>\n",
    "Bonus - make a loop that will print every item on the list inside a sentence using a f-string."
   ]
  },
  {
   "cell_type": "markdown",
   "metadata": {},
   "source": [
    "<h1>Question 3: Creating functions</h1>\n",
    "\n",
    "Create a function that takes a list of numbers and convert them into strings. (bonus point if you use a list comprehension!!)"
   ]
  },
  {
   "cell_type": "code",
   "execution_count": 29,
   "metadata": {},
   "outputs": [
    {
     "name": "stdout",
     "output_type": "stream",
     "text": [
      "['1', '2', '3', '4', '5']\n"
     ]
    }
   ],
   "source": [
    "# This is my solution\n",
    "\n",
    "def convert_to_strings(numbers):\n",
    "    # Use list comprehension to convert numbers to strings\n",
    "    string_numbers = [str(num) for num in numbers]\n",
    "    return string_numbers\n",
    "\n",
    "numbers = [1, 2, 3, 4, 5]\n",
    "string_numbers = convert_to_strings(numbers)\n",
    "print(string_numbers)\n"
   ]
  },
  {
   "cell_type": "code",
   "execution_count": 21,
   "metadata": {},
   "outputs": [
    {
     "data": {
      "text/plain": [
       "1"
      ]
     },
     "execution_count": 21,
     "metadata": {},
     "output_type": "execute_result"
    }
   ],
   "source": [
    "1"
   ]
  },
  {
   "cell_type": "code",
   "execution_count": 22,
   "metadata": {},
   "outputs": [
    {
     "data": {
      "text/plain": [
       "'1'"
      ]
     },
     "execution_count": 22,
     "metadata": {},
     "output_type": "execute_result"
    }
   ],
   "source": [
    "variable = 1\n",
    "str(variable)"
   ]
  },
  {
   "cell_type": "code",
   "execution_count": 23,
   "metadata": {},
   "outputs": [],
   "source": [
    "yet_another_list = []"
   ]
  },
  {
   "cell_type": "code",
   "execution_count": 24,
   "metadata": {},
   "outputs": [
    {
     "data": {
      "text/plain": [
       "[]"
      ]
     },
     "execution_count": 24,
     "metadata": {},
     "output_type": "execute_result"
    }
   ],
   "source": [
    "yet_another_list"
   ]
  },
  {
   "cell_type": "code",
   "execution_count": 25,
   "metadata": {},
   "outputs": [],
   "source": [
    "yet_another_list.append('cat')"
   ]
  },
  {
   "cell_type": "code",
   "execution_count": 26,
   "metadata": {},
   "outputs": [
    {
     "data": {
      "text/plain": [
       "['cat']"
      ]
     },
     "execution_count": 26,
     "metadata": {},
     "output_type": "execute_result"
    }
   ],
   "source": [
    "yet_another_list"
   ]
  },
  {
   "cell_type": "code",
   "execution_count": null,
   "metadata": {},
   "outputs": [],
   "source": []
  },
  {
   "cell_type": "code",
   "execution_count": 28,
   "metadata": {},
   "outputs": [],
   "source": [
    "def numberToString(the_list):\n",
    "    another_list = []\n",
    "    \n",
    "    for item in the_list:    \n",
    "        converted_item = str(item)\n",
    "        another_list.append(converted_item)\n",
    "        \n",
    "    return(another_list)"
   ]
  },
  {
   "cell_type": "code",
   "execution_count": null,
   "metadata": {},
   "outputs": [],
   "source": []
  },
  {
   "cell_type": "code",
   "execution_count": 16,
   "metadata": {},
   "outputs": [
    {
     "data": {
      "text/plain": [
       "['1', '2', '3', '4', '5']"
      ]
     },
     "execution_count": 16,
     "metadata": {},
     "output_type": "execute_result"
    }
   ],
   "source": [
    "my_list = [1,2,3,4,5]\n",
    "\n",
    "numberToString(the_list=my_list)"
   ]
  },
  {
   "cell_type": "code",
   "execution_count": 20,
   "metadata": {},
   "outputs": [
    {
     "data": {
      "text/plain": [
       "['1', '2', '3', '4', '5']"
      ]
     },
     "execution_count": 20,
     "metadata": {},
     "output_type": "execute_result"
    }
   ],
   "source": [
    "new_list = [str(number) for number in my_list]\n",
    "new_list"
   ]
  },
  {
   "cell_type": "code",
   "execution_count": 19,
   "metadata": {},
   "outputs": [
    {
     "data": {
      "text/plain": [
       "['0', '1', '2', '3', '4', '5', '6', '7', '8', '9']"
      ]
     },
     "execution_count": 19,
     "metadata": {},
     "output_type": "execute_result"
    }
   ],
   "source": [
    "new_list = [str(number) for number in range(10)]\n",
    "new_list"
   ]
  },
  {
   "cell_type": "markdown",
   "metadata": {},
   "source": [
    "Create a small calculator. The function should pick two numbers and perform one of four mathematical operations with it (sum/subtraction, division, multiplication, exponents). The desired operation should be an option (hint: what IF the user wants to do a sum?)\n",
    "\n",
    "Bonus: Make a function that can pick ANY number of numbers."
   ]
  },
  {
   "cell_type": "code",
   "execution_count": 55,
   "metadata": {},
   "outputs": [
    {
     "name": "stdout",
     "output_type": "stream",
     "text": [
      "Calculator Result: 15\n",
      "Multi-Calculator Result (Sum): 10\n",
      "Multi-Calculator Result (Division): 5.0\n",
      "Multi-Calculator Result (Multiplication): 24\n",
      "Multi-Calculator Result (Exponents): 8\n"
     ]
    }
   ],
   "source": [
    "# Function to perform a basic mathematical operation on two numbers\n",
    "def calculator(num1, num2, operation):\n",
    "    if operation == 'sum':\n",
    "        result = num1 + num2\n",
    "    elif operation == 'subtraction':\n",
    "        result = num1 - num2\n",
    "    elif operation == 'division':\n",
    "        if num2 == 0:\n",
    "            return \"Division by zero is not allowed.\"\n",
    "        result = num1 / num2\n",
    "    elif operation == 'multiplication':\n",
    "        result = num1 * num2\n",
    "    elif operation == 'exponents':\n",
    "        result = num1 ** num2\n",
    "    else:\n",
    "        return \"Invalid operation\"\n",
    "    return result\n",
    "\n",
    "# Function to perform a basic mathematical operation on any number of numbers\n",
    "def multi_calculator(operation, *args):\n",
    "    if not args:\n",
    "        return \"No numbers provided\"\n",
    "    \n",
    "    if operation == 'sum':\n",
    "        result = sum(args)\n",
    "    elif operation == 'subtraction':\n",
    "        result = args[0] - sum(args[1:])\n",
    "    elif operation == 'division':\n",
    "        if 0 in args[1:]:\n",
    "            return \"Division by zero is not allowed.\"\n",
    "        result = args[0]\n",
    "        for num in args[1:]:\n",
    "            result /= num\n",
    "    elif operation == 'multiplication':\n",
    "        result = 1\n",
    "        for num in args:\n",
    "            result *= num\n",
    "    elif operation == 'exponents':\n",
    "        if len(args) != 2:\n",
    "            return \"Exponentiation requires exactly two numbers.\"\n",
    "        result = args[0] ** args[1]\n",
    "    else:\n",
    "        return \"Invalid operation\"\n",
    "    \n",
    "    return result\n",
    "\n",
    "# Example usage for the first function (calculator)\n",
    "result = calculator(10, 5, 'sum')\n",
    "print(\"Calculator Result:\", result)\n",
    "\n",
    "# Example usage for the second function (multi_calculator)\n",
    "result = multi_calculator('sum', 5, 3, 2)\n",
    "print(\"Multi-Calculator Result (Sum):\", result)\n",
    "\n",
    "result = multi_calculator('division', 100, 5, 2, 2)\n",
    "print(\"Multi-Calculator Result (Division):\", result)\n",
    "\n",
    "result = multi_calculator('multiplication', 2, 3, 4)\n",
    "print(\"Multi-Calculator Result (Multiplication):\", result)\n",
    "\n",
    "result = multi_calculator('exponents', 2, 3)\n",
    "print(\"Multi-Calculator Result (Exponents):\", result)\n",
    "\n"
   ]
  },
  {
   "cell_type": "markdown",
   "metadata": {},
   "source": [
    "Create a function that check if a number is within a list of numbers."
   ]
  },
  {
   "cell_type": "code",
   "execution_count": 58,
   "metadata": {},
   "outputs": [
    {
     "name": "stdout",
     "output_type": "stream",
     "text": [
      "Is 3 in the list? True\n",
      "Is 6 in the list? False\n"
     ]
    }
   ],
   "source": [
    "# A function that check if a number is within a list of numbers.\n",
    "\n",
    "def is_number_in_list(number, num_list):\n",
    "    return number in num_list\n",
    "\n",
    "numbers = [1, 2, 3, 4, 5]\n",
    "\n",
    "# Check if 3 is in the list\n",
    "result = is_number_in_list(3, numbers)\n",
    "print(\"Is 3 in the list?\", result)\n",
    "\n",
    "# Check if 6 is in the list\n",
    "result = is_number_in_list(6, numbers)\n",
    "print(\"Is 6 in the list?\", result)\n"
   ]
  },
  {
   "cell_type": "markdown",
   "metadata": {},
   "source": [
    "Bonus: similar to the item above, create a function that checks if a string contains a given substring, e.g. 'I have a cat' contains the string sequence 'cat' or 'ave'."
   ]
  },
  {
   "cell_type": "code",
   "execution_count": null,
   "metadata": {},
   "outputs": [],
   "source": []
  },
  {
   "cell_type": "markdown",
   "metadata": {},
   "source": [
    "Bonus: create a function that given the initial speed of a projectile that is thrown at 90 degrees will calculate how much time the projectile will take to get back to the initial altitude. (yes you're expected to disregard air resistence)"
   ]
  },
  {
   "cell_type": "code",
   "execution_count": null,
   "metadata": {},
   "outputs": [],
   "source": []
  },
  {
   "cell_type": "markdown",
   "metadata": {},
   "source": [
    "<h1>solve these questions...or ELSE</h1>\n",
    "\n",
    "Why the nested if statement below doesn't only produce the first print? Can you modify it so it produces the desired output?"
   ]
  },
  {
   "cell_type": "code",
   "execution_count": 62,
   "metadata": {},
   "outputs": [
    {
     "name": "stdout",
     "output_type": "stream",
     "text": [
      "Yeeeey!\n"
     ]
    }
   ],
   "source": [
    "'''\n",
    "food = 'Pizza'\n",
    "drinks = 'Beer'\n",
    "\n",
    "if food == 'Pizza' and drinks == 'Beer':\n",
    "    print('Yeeeey!')\n",
    "if food == 'Pizza' and drinks != 'Beer':\n",
    "    print('Yey.')\n",
    "if food != 'Pizza' and drinks == 'Beer':\n",
    "    print('Yey!')\n",
    "else:\n",
    "    print('.....???')\n",
    "'''\n",
    "# It doesn't work because, in a multi conditional statement need to be used as: if, elif, elif and the last one is else.\n",
    "# My solution:\n",
    "food = 'Pizza'\n",
    "drinks = 'Beer'\n",
    "\n",
    "if food == 'Pizza' and drinks == 'Beer':\n",
    "    print('Yeeeey!')\n",
    "elif food == 'Pizza' and drinks != 'Beer':\n",
    "    print('Yey.')\n",
    "elif food != 'Pizza' and drinks == 'Beer':\n",
    "    print('Yey!')\n",
    "else:\n",
    "    print('.....???')"
   ]
  },
  {
   "cell_type": "markdown",
   "metadata": {},
   "source": [
    "<h1> Debugging </h1>\n",
    "None of the blocks of code below work. Your task is to make them work (if possible!) and add markup cells (or comments) explaining why they don't work."
   ]
  },
  {
   "cell_type": "markdown",
   "metadata": {},
   "source": [
    "print(\"Is this working?\")"
   ]
  },
  {
   "cell_type": "code",
   "execution_count": 65,
   "metadata": {},
   "outputs": [
    {
     "name": "stdout",
     "output_type": "stream",
     "text": [
      "does this work?\n"
     ]
    }
   ],
   "source": [
    "# It didn't work because it was commented out\n",
    "print(\"does this work?\")"
   ]
  },
  {
   "cell_type": "code",
   "execution_count": 66,
   "metadata": {},
   "outputs": [
    {
     "name": "stdout",
     "output_type": "stream",
     "text": [
      "about now?\n"
     ]
    }
   ],
   "source": [
    "# It is a syntax error in the string.\n",
    "# You can use either single or double quotes only and not mix them.\n",
    "\n",
    "print(\"about now?\")\n"
   ]
  },
  {
   "cell_type": "code",
   "execution_count": 70,
   "metadata": {},
   "outputs": [
    {
     "name": "stdout",
     "output_type": "stream",
     "text": [
      "Today on a scale from 1 to 10 I am feeling... 10\n"
     ]
    }
   ],
   "source": [
    "# In the printing function between the two params was missing a comma.\n",
    "\n",
    "text_variable = \"Today on a scale from 1 to 10 I am feeling...\"\n",
    "my_mood = 10\n",
    "print(text_variable, my_mood)"
   ]
  },
  {
   "cell_type": "code",
   "execution_count": 79,
   "metadata": {},
   "outputs": [
    {
     "name": "stdout",
     "output_type": "stream",
     "text": [
      "Today on a scale from 1 to 10 I am feeling... 10\n"
     ]
    }
   ],
   "source": [
    "# Was needed to convert my_mood variable which contains an integer to string,\n",
    "# And added a space between them to look better.\n",
    "\n",
    "text_variable = \"Today on a scale from 1 to 10 I am feeling...\"\n",
    "my_mood = 10\n",
    "print(text_variable + ' ' + str(my_mood)) #Yep there are ways to make it work with a + operator too!"
   ]
  },
  {
   "cell_type": "code",
   "execution_count": 83,
   "metadata": {},
   "outputs": [],
   "source": [
    "# Variables are used as keys in the dictionary, but they are not defined.\n",
    "# And there is a comma after the last key-value which is unnecesarry.\n",
    "\n",
    "item1 = 'key1'\n",
    "item2 = 'key2'\n",
    "\n",
    "a_dictionary = {item1: 'Value 1',\n",
    "                item2: 'value 2'}"
   ]
  },
  {
   "cell_type": "code",
   "execution_count": 85,
   "metadata": {},
   "outputs": [
    {
     "data": {
      "text/plain": [
       "True"
      ]
     },
     "execution_count": 85,
     "metadata": {},
     "output_type": "execute_result"
    }
   ],
   "source": [
    "# A comparation should be with double \"==\".\n",
    "\n",
    "1 == 1 # Should return True"
   ]
  },
  {
   "cell_type": "code",
   "execution_count": 87,
   "metadata": {},
   "outputs": [
    {
     "name": "stdout",
     "output_type": "stream",
     "text": [
      "Clap your hands\n"
     ]
    }
   ],
   "source": [
    "# Why isn't the outcome 'Clap your hands?'\n",
    "# Because \"Python\" is case sensitive and in the variable \"mood\" the value was with lower case and in the conditional statement the first letter was upper case.\n",
    "mood = 'happy'\n",
    "if mood == 'happy':\n",
    "    print('Clap your hands')\n",
    "else:\n",
    "    print('...do I look like I have this one figured out?')"
   ]
  },
  {
   "cell_type": "code",
   "execution_count": 89,
   "metadata": {},
   "outputs": [
    {
     "name": "stdout",
     "output_type": "stream",
     "text": [
      "a word another word\n"
     ]
    }
   ],
   "source": [
    "# IndentationError: expected an indented block after function definition on line 1\n",
    "\n",
    "def printerfunction(x,y):\n",
    "    print(x,y)\n",
    "\n",
    "printerfunction(\"a word\", \"another word\")"
   ]
  },
  {
   "cell_type": "code",
   "execution_count": 93,
   "metadata": {},
   "outputs": [
    {
     "name": "stdout",
     "output_type": "stream",
     "text": [
      "Clap your hands\n"
     ]
    }
   ],
   "source": [
    "# bonus/annoying round, why is this crashing?\n",
    "'''\n",
    "It is not crashing, only isn't the outcome that we should expect because,\n",
    "Once again: Python is case sensitive and in the variable \"mood\" the value was with lower case,\n",
    "and in the conditional statement the first letter was upper case.\n",
    "'''\n",
    "mood = 'happy'\n",
    "if mood == 'happy':\n",
    "   print('Clap your hands')\n",
    "else:\n",
    "    print('...do I look like I have this one figured out?')"
   ]
  }
 ],
 "metadata": {
  "kernelspec": {
   "display_name": "Python 3 (ipykernel)",
   "language": "python",
   "name": "python3"
  },
  "language_info": {
   "codemirror_mode": {
    "name": "ipython",
    "version": 3
   },
   "file_extension": ".py",
   "mimetype": "text/x-python",
   "name": "python",
   "nbconvert_exporter": "python",
   "pygments_lexer": "ipython3",
   "version": "3.11.5"
  }
 },
 "nbformat": 4,
 "nbformat_minor": 4
}
